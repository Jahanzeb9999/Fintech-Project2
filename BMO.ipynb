{
 "cells": [
  {
   "cell_type": "code",
   "execution_count": 1,
   "id": "eba784e4-ef6b-476a-a680-09d67a7638ec",
   "metadata": {},
   "outputs": [],
   "source": [
    " # Initial imports\n",
    "import numpy as np\n",
    "import pandas as pd\n",
    "import pandas_datareader as dr\n",
    "\n",
    "%matplotlib inline"
   ]
  },
  {
   "cell_type": "code",
   "execution_count": 2,
   "id": "a3eea181-8ec6-472e-932e-053599c8d0e1",
   "metadata": {},
   "outputs": [
    {
     "ename": "ModuleNotFoundError",
     "evalue": "No module named 'tensorflow'",
     "output_type": "error",
     "traceback": [
      "\u001b[0;31m---------------------------------------------------------------------------\u001b[0m",
      "\u001b[0;31mModuleNotFoundError\u001b[0m                       Traceback (most recent call last)",
      "\u001b[0;32m/var/folders/pw/dfv_kfw56vgfbv67nc_hmmqm0000gn/T/ipykernel_28941/2481686762.py\u001b[0m in \u001b[0;36m<module>\u001b[0;34m\u001b[0m\n\u001b[1;32m      4\u001b[0m \u001b[0;34m\u001b[0m\u001b[0m\n\u001b[1;32m      5\u001b[0m \u001b[0mseed\u001b[0m\u001b[0;34m(\u001b[0m\u001b[0;36m1\u001b[0m\u001b[0;34m)\u001b[0m\u001b[0;34m\u001b[0m\u001b[0;34m\u001b[0m\u001b[0m\n\u001b[0;32m----> 6\u001b[0;31m \u001b[0;32mfrom\u001b[0m \u001b[0mtensorflow\u001b[0m \u001b[0;32mimport\u001b[0m \u001b[0mrandom\u001b[0m\u001b[0;34m\u001b[0m\u001b[0;34m\u001b[0m\u001b[0m\n\u001b[0m\u001b[1;32m      7\u001b[0m \u001b[0;34m\u001b[0m\u001b[0m\n\u001b[1;32m      8\u001b[0m \u001b[0mrandom\u001b[0m\u001b[0;34m.\u001b[0m\u001b[0mset_seed\u001b[0m\u001b[0;34m(\u001b[0m\u001b[0;36m2\u001b[0m\u001b[0;34m)\u001b[0m\u001b[0;34m\u001b[0m\u001b[0;34m\u001b[0m\u001b[0m\n",
      "\u001b[0;31mModuleNotFoundError\u001b[0m: No module named 'tensorflow'"
     ]
    }
   ],
   "source": [
    "# Set the random seed for reproducibility\n",
    "# Note: This is used for model prototyping, but it is good practice to comment this out and run multiple experiments to evaluate your model.\n",
    "from numpy.random import seed\n",
    "\n",
    "seed(1)\n",
    "from tensorflow import random\n",
    "\n",
    "random.set_seed(2)"
   ]
  },
  {
   "cell_type": "code",
   "execution_count": 3,
   "id": "16ec9f1d-802e-4a2f-baff-2c885a6409cd",
   "metadata": {},
   "outputs": [
    {
     "data": {
      "text/html": [
       "<div>\n",
       "<style scoped>\n",
       "    .dataframe tbody tr th:only-of-type {\n",
       "        vertical-align: middle;\n",
       "    }\n",
       "\n",
       "    .dataframe tbody tr th {\n",
       "        vertical-align: top;\n",
       "    }\n",
       "\n",
       "    .dataframe thead th {\n",
       "        text-align: right;\n",
       "    }\n",
       "</style>\n",
       "<table border=\"1\" class=\"dataframe\">\n",
       "  <thead>\n",
       "    <tr style=\"text-align: right;\">\n",
       "      <th></th>\n",
       "      <th>Close</th>\n",
       "    </tr>\n",
       "    <tr>\n",
       "      <th>Date</th>\n",
       "      <th></th>\n",
       "    </tr>\n",
       "  </thead>\n",
       "  <tbody>\n",
       "    <tr>\n",
       "      <th>2016-09-27</th>\n",
       "      <td>64.930000</td>\n",
       "    </tr>\n",
       "    <tr>\n",
       "      <th>2016-09-28</th>\n",
       "      <td>65.809998</td>\n",
       "    </tr>\n",
       "    <tr>\n",
       "      <th>2016-09-29</th>\n",
       "      <td>65.349998</td>\n",
       "    </tr>\n",
       "    <tr>\n",
       "      <th>2016-09-30</th>\n",
       "      <td>65.570000</td>\n",
       "    </tr>\n",
       "    <tr>\n",
       "      <th>2016-10-03</th>\n",
       "      <td>65.449997</td>\n",
       "    </tr>\n",
       "  </tbody>\n",
       "</table>\n",
       "</div>"
      ],
      "text/plain": [
       "                Close\n",
       "Date                 \n",
       "2016-09-27  64.930000\n",
       "2016-09-28  65.809998\n",
       "2016-09-29  65.349998\n",
       "2016-09-30  65.570000\n",
       "2016-10-03  65.449997"
      ]
     },
     "execution_count": 3,
     "metadata": {},
     "output_type": "execute_result"
    }
   ],
   "source": [
    "# Using data from Apple's stock.\n",
    "# Using data from Apple's stock.\n",
    "df = dr.data.get_data_yahoo('BMO', start='2016-09-27', end='2022-06-10')\n",
    "df.drop(columns=['High', 'Low', 'Volume', 'Open', 'Adj Close'], inplace=True)\n",
    "df.head()"
   ]
  },
  {
   "cell_type": "code",
   "execution_count": 4,
   "id": "9d138bc6-5ec7-4910-aab5-feddb57e65c9",
   "metadata": {},
   "outputs": [],
   "source": [
    "def window_data(df2, window, feature_col_number, target_col_number):\n",
    "    \"\"\"\n",
    "    This function accepts the column number for the features (X) and the target (y).\n",
    "    It chunks the data up with a rolling window of Xt - window to predict Xt.\n",
    "    It returns two numpy arrays of X and y.\n",
    "    \"\"\"\n",
    "    X = []\n",
    "    y = []\n",
    "    for i in range(len(df2) - window):\n",
    "        features = df2.iloc[i : (i + window), feature_col_number]\n",
    "        target = df2.iloc[(i + window), target_col_number]\n",
    "        X.append(features)\n",
    "        y.append(target)\n",
    "    return np.array(X), np.array(y).reshape(-1, 1)"
   ]
  },
  {
   "cell_type": "code",
   "execution_count": 5,
   "id": "e03f5efb-f8cd-47c2-aea6-4b8a0e3ffc96",
   "metadata": {},
   "outputs": [
    {
     "name": "stdout",
     "output_type": "stream",
     "text": [
      "X sample values:\n",
      "[[64.93000031 65.80999756 65.34999847 65.56999969 65.44999695 63.90000153\n",
      "  63.84999847 63.63000107 63.15000153 63.65000153 63.40999985 63.56999969\n",
      "  64.01000214 64.29000092 64.47000122 64.94999695 64.94000244 64.65000153\n",
      "  64.16999817 64.43000031 64.51000214 64.79000092 64.95999908 63.77000046\n",
      "  63.59999847 63.38999939 63.         63.08000183 62.52000046 63.52000046]\n",
      " [65.80999756 65.34999847 65.56999969 65.44999695 63.90000153 63.84999847\n",
      "  63.63000107 63.15000153 63.65000153 63.40999985 63.56999969 64.01000214\n",
      "  64.29000092 64.47000122 64.94999695 64.94000244 64.65000153 64.16999817\n",
      "  64.43000031 64.51000214 64.79000092 64.95999908 63.77000046 63.59999847\n",
      "  63.38999939 63.         63.08000183 62.52000046 63.52000046 63.88000107]\n",
      " [65.34999847 65.56999969 65.44999695 63.90000153 63.84999847 63.63000107\n",
      "  63.15000153 63.65000153 63.40999985 63.56999969 64.01000214 64.29000092\n",
      "  64.47000122 64.94999695 64.94000244 64.65000153 64.16999817 64.43000031\n",
      "  64.51000214 64.79000092 64.95999908 63.77000046 63.59999847 63.38999939\n",
      "  63.         63.08000183 62.52000046 63.52000046 63.88000107 63.93000031]] \n",
      "\n",
      "y sample values:\n",
      "[[63.88000107]\n",
      " [63.93000031]\n",
      " [63.90000153]]\n"
     ]
    }
   ],
   "source": [
    "# Define the window size\n",
    "window_size = 30\n",
    "\n",
    "# Set the index of the feature and target columns\n",
    "feature_column = 0\n",
    "target_column = 0\n",
    "\n",
    "# Create the features (X) and target (y) data using the window_data() function.\n",
    "X, y = window_data(df, window_size, feature_column, target_column)\n",
    "\n",
    "# Print a few sample values from X and y\n",
    "print (f\"X sample values:\\n{X[:3]} \\n\")\n",
    "print (f\"y sample values:\\n{y[:3]}\")"
   ]
  },
  {
   "cell_type": "code",
   "execution_count": 6,
   "id": "a6f27a55-8468-4146-95c9-2da5a748765d",
   "metadata": {},
   "outputs": [],
   "source": [
    " # Manually splitting the data\n",
    "split = int(0.7 * len(X))\n",
    "\n",
    "X_train = X[: split]\n",
    "X_test = X[split:]\n",
    "\n",
    "y_train = y[: split]\n",
    "y_test = y[split:]"
   ]
  },
  {
   "cell_type": "code",
   "execution_count": 7,
   "id": "36bcd8f8-5b4a-4c02-b348-2375721dd7e4",
   "metadata": {},
   "outputs": [],
   "source": [
    "# Use the MinMaxScaler to scale data between 0 and 1.\n",
    "from sklearn.preprocessing import MinMaxScaler\n",
    "\n",
    "# Create a MinMaxScaler object\n",
    "scaler = MinMaxScaler()\n",
    "\n",
    "# Fit the MinMaxScaler object with the training feature data X_train\n",
    "scaler.fit(X_train)\n",
    "\n",
    "# Scale the features training and testing sets\n",
    "X_train = scaler.transform(X_train)\n",
    "X_test = scaler.transform(X_test)\n",
    "\n",
    "# Fit the MinMaxScaler object with the training target data y_train\n",
    "scaler.fit(y_train)\n",
    "\n",
    "# Scale the target training and testing sets\n",
    "y_train = scaler.transform(y_train)\n",
    "y_test = scaler.transform(y_test)"
   ]
  },
  {
   "cell_type": "code",
   "execution_count": 8,
   "id": "d0c3f253-a96e-4b83-92eb-a000554b5940",
   "metadata": {},
   "outputs": [
    {
     "name": "stdout",
     "output_type": "stream",
     "text": [
      "X_train sample values:\n",
      "[[[0.57753305]\n",
      "  [0.59691625]\n",
      "  [0.58678411]\n",
      "  [0.59162995]\n",
      "  [0.58898672]\n",
      "  [0.55484585]\n",
      "  [0.55374446]\n",
      "  [0.5488987 ]\n",
      "  [0.53832603]\n",
      "  [0.54933924]\n",
      "  [0.54405286]\n",
      "  [0.54757709]\n",
      "  [0.55726877]\n",
      "  [0.56343614]\n",
      "  [0.56740091]\n",
      "  [0.5779735 ]\n",
      "  [0.57775336]\n",
      "  [0.57136567]\n",
      "  [0.56079291]\n",
      "  [0.56651983]\n",
      "  [0.56828199]\n",
      "  [0.57444936]\n",
      "  [0.57819381]\n",
      "  [0.55198239]\n",
      "  [0.54823785]\n",
      "  [0.54361232]\n",
      "  [0.53502203]\n",
      "  [0.53678418]\n",
      "  [0.52444935]\n",
      "  [0.54647578]]\n",
      "\n",
      " [[0.59691625]\n",
      "  [0.58678411]\n",
      "  [0.59162995]\n",
      "  [0.58898672]\n",
      "  [0.55484585]\n",
      "  [0.55374446]\n",
      "  [0.5488987 ]\n",
      "  [0.53832603]\n",
      "  [0.54933924]\n",
      "  [0.54405286]\n",
      "  [0.54757709]\n",
      "  [0.55726877]\n",
      "  [0.56343614]\n",
      "  [0.56740091]\n",
      "  [0.5779735 ]\n",
      "  [0.57775336]\n",
      "  [0.57136567]\n",
      "  [0.56079291]\n",
      "  [0.56651983]\n",
      "  [0.56828199]\n",
      "  [0.57444936]\n",
      "  [0.57819381]\n",
      "  [0.55198239]\n",
      "  [0.54823785]\n",
      "  [0.54361232]\n",
      "  [0.53502203]\n",
      "  [0.53678418]\n",
      "  [0.52444935]\n",
      "  [0.54647578]\n",
      "  [0.55440531]]\n",
      "\n",
      " [[0.58678411]\n",
      "  [0.59162995]\n",
      "  [0.58898672]\n",
      "  [0.55484585]\n",
      "  [0.55374446]\n",
      "  [0.5488987 ]\n",
      "  [0.53832603]\n",
      "  [0.54933924]\n",
      "  [0.54405286]\n",
      "  [0.54757709]\n",
      "  [0.55726877]\n",
      "  [0.56343614]\n",
      "  [0.56740091]\n",
      "  [0.5779735 ]\n",
      "  [0.57775336]\n",
      "  [0.57136567]\n",
      "  [0.56079291]\n",
      "  [0.56651983]\n",
      "  [0.56828199]\n",
      "  [0.57444936]\n",
      "  [0.57819381]\n",
      "  [0.55198239]\n",
      "  [0.54823785]\n",
      "  [0.54361232]\n",
      "  [0.53502203]\n",
      "  [0.53678418]\n",
      "  [0.52444935]\n",
      "  [0.54647578]\n",
      "  [0.55440531]\n",
      "  [0.55550662]]] \n",
      "\n",
      "X_test sample values:\n",
      "[[[0.50528638]\n",
      "  [0.54713655]\n",
      "  [0.55154185]\n",
      "  [0.53942733]\n",
      "  [0.54757709]\n",
      "  [0.52533043]\n",
      "  [0.53083704]\n",
      "  [0.51343614]\n",
      "  [0.51982382]\n",
      "  [0.48083703]\n",
      "  [0.49977977]\n",
      "  [0.47951541]\n",
      "  [0.49207047]\n",
      "  [0.50616737]\n",
      "  [0.50484584]\n",
      "  [0.4955947 ]\n",
      "  [0.5011013 ]\n",
      "  [0.48546256]\n",
      "  [0.45770929]\n",
      "  [0.44074893]\n",
      "  [0.42533041]\n",
      "  [0.43370048]\n",
      "  [0.43083702]\n",
      "  [0.45814975]\n",
      "  [0.43325994]\n",
      "  [0.43392071]\n",
      "  [0.42488987]\n",
      "  [0.42775333]\n",
      "  [0.44955945]\n",
      "  [0.47797357]]\n",
      "\n",
      " [[0.54713655]\n",
      "  [0.55154185]\n",
      "  [0.53942733]\n",
      "  [0.54757709]\n",
      "  [0.52533043]\n",
      "  [0.53083704]\n",
      "  [0.51343614]\n",
      "  [0.51982382]\n",
      "  [0.48083703]\n",
      "  [0.49977977]\n",
      "  [0.47951541]\n",
      "  [0.49207047]\n",
      "  [0.50616737]\n",
      "  [0.50484584]\n",
      "  [0.4955947 ]\n",
      "  [0.5011013 ]\n",
      "  [0.48546256]\n",
      "  [0.45770929]\n",
      "  [0.44074893]\n",
      "  [0.42533041]\n",
      "  [0.43370048]\n",
      "  [0.43083702]\n",
      "  [0.45814975]\n",
      "  [0.43325994]\n",
      "  [0.43392071]\n",
      "  [0.42488987]\n",
      "  [0.42775333]\n",
      "  [0.44955945]\n",
      "  [0.47797357]\n",
      "  [0.50308369]]\n",
      "\n",
      " [[0.55154185]\n",
      "  [0.53942733]\n",
      "  [0.54757709]\n",
      "  [0.52533043]\n",
      "  [0.53083704]\n",
      "  [0.51343614]\n",
      "  [0.51982382]\n",
      "  [0.48083703]\n",
      "  [0.49977977]\n",
      "  [0.47951541]\n",
      "  [0.49207047]\n",
      "  [0.50616737]\n",
      "  [0.50484584]\n",
      "  [0.4955947 ]\n",
      "  [0.5011013 ]\n",
      "  [0.48546256]\n",
      "  [0.45770929]\n",
      "  [0.44074893]\n",
      "  [0.42533041]\n",
      "  [0.43370048]\n",
      "  [0.43083702]\n",
      "  [0.45814975]\n",
      "  [0.43325994]\n",
      "  [0.43392071]\n",
      "  [0.42488987]\n",
      "  [0.42775333]\n",
      "  [0.44955945]\n",
      "  [0.47797357]\n",
      "  [0.50308369]\n",
      "  [0.51960351]]]\n"
     ]
    }
   ],
   "source": [
    " # Reshape the features data\n",
    "X_train = X_train.reshape((X_train.shape[0], X_train.shape[1], 1))\n",
    "X_test = X_test.reshape((X_test.shape[0], X_test.shape[1], 1))\n",
    "\n",
    "# Print some sample data after reshaping the datasets\n",
    "print (f\"X_train sample values:\\n{X_train[:3]} \\n\")\n",
    "print (f\"X_test sample values:\\n{X_test[:3]}\")"
   ]
  },
  {
   "cell_type": "code",
   "execution_count": 9,
   "id": "7c830eb2-eb10-4a7b-831e-fc4c8ab59c5f",
   "metadata": {},
   "outputs": [
    {
     "ename": "ModuleNotFoundError",
     "evalue": "No module named 'tensorflow'",
     "output_type": "error",
     "traceback": [
      "\u001b[0;31m---------------------------------------------------------------------------\u001b[0m",
      "\u001b[0;31mModuleNotFoundError\u001b[0m                       Traceback (most recent call last)",
      "\u001b[0;32m/var/folders/pw/dfv_kfw56vgfbv67nc_hmmqm0000gn/T/ipykernel_28941/3489004235.py\u001b[0m in \u001b[0;36m<module>\u001b[0;34m\u001b[0m\n\u001b[0;32m----> 1\u001b[0;31m \u001b[0;32mfrom\u001b[0m \u001b[0mtensorflow\u001b[0m\u001b[0;34m.\u001b[0m\u001b[0mkeras\u001b[0m\u001b[0;34m.\u001b[0m\u001b[0mmodels\u001b[0m \u001b[0;32mimport\u001b[0m \u001b[0mSequential\u001b[0m\u001b[0;34m\u001b[0m\u001b[0;34m\u001b[0m\u001b[0m\n\u001b[0m\u001b[1;32m      2\u001b[0m \u001b[0;32mfrom\u001b[0m \u001b[0mtensorflow\u001b[0m\u001b[0;34m.\u001b[0m\u001b[0mkeras\u001b[0m\u001b[0;34m.\u001b[0m\u001b[0mlayers\u001b[0m \u001b[0;32mimport\u001b[0m \u001b[0mLSTM\u001b[0m\u001b[0;34m,\u001b[0m \u001b[0mDense\u001b[0m\u001b[0;34m,\u001b[0m \u001b[0mDropout\u001b[0m\u001b[0;34m\u001b[0m\u001b[0;34m\u001b[0m\u001b[0m\n",
      "\u001b[0;31mModuleNotFoundError\u001b[0m: No module named 'tensorflow'"
     ]
    }
   ],
   "source": [
    "from tensorflow.keras.models import Sequential\n",
    "from tensorflow.keras.layers import LSTM, Dense, Dropout"
   ]
  },
  {
   "cell_type": "code",
   "execution_count": 10,
   "id": "8c688b2a-2c89-4c03-88ec-1fb7c50a7c80",
   "metadata": {},
   "outputs": [],
   "source": [
    " # Define the LSTM RNN model.\n",
    "model = Sequential()\n",
    "\n",
    "# Initial model setup\n",
    "number_units = 30\n",
    "dropout_fraction = 0.2\n",
    "\n",
    "# Layer 1\n",
    "model.add(LSTM(\n",
    "    units=number_units,\n",
    "    return_sequences=True,\n",
    "    input_shape=(X_train.shape[1], 1))\n",
    "    )\n",
    "model.add(Dropout(dropout_fraction))\n",
    "\n",
    "# Layer 2\n",
    "model.add(LSTM(units=number_units, return_sequences=True))\n",
    "model.add(Dropout(dropout_fraction))\n",
    "\n",
    "# Layer 3\n",
    "model.add(LSTM(units=number_units))\n",
    "model.add(Dropout(dropout_fraction))\n",
    "\n",
    "# Output layer\n",
    "model.add(Dense(1))\n"
   ]
  },
  {
   "cell_type": "code",
   "execution_count": 11,
   "id": "5c4b4621-2e51-4f7e-96c0-fd2123cb8b87",
   "metadata": {},
   "outputs": [],
   "source": [
    "model.compile(optimizer=\"adam\", loss=\"mean_squared_error\") "
   ]
  },
  {
   "cell_type": "code",
   "execution_count": 12,
   "id": "26337846-d278-405f-8a2e-cf4198467a95",
   "metadata": {},
   "outputs": [
    {
     "name": "stdout",
     "output_type": "stream",
     "text": [
      "Model: \"sequential\"\n",
      "_________________________________________________________________\n",
      " Layer (type)                Output Shape              Param #   \n",
      "=================================================================\n",
      " lstm (LSTM)                 (None, 30, 30)            3840      \n",
      "                                                                 \n",
      " dropout (Dropout)           (None, 30, 30)            0         \n",
      "                                                                 \n",
      " lstm_1 (LSTM)               (None, 30, 30)            7320      \n",
      "                                                                 \n",
      " dropout_1 (Dropout)         (None, 30, 30)            0         \n",
      "                                                                 \n",
      " lstm_2 (LSTM)               (None, 30)                7320      \n",
      "                                                                 \n",
      " dropout_2 (Dropout)         (None, 30)                0         \n",
      "                                                                 \n",
      " dense (Dense)               (None, 1)                 31        \n",
      "                                                                 \n",
      "=================================================================\n",
      "Total params: 18,511\n",
      "Trainable params: 18,511\n",
      "Non-trainable params: 0\n",
      "_________________________________________________________________\n"
     ]
    }
   ],
   "source": [
    "model.summary()"
   ]
  },
  {
   "cell_type": "code",
   "execution_count": 13,
   "id": "8d5035d7-211f-43ca-9ac8-6915214c6aed",
   "metadata": {},
   "outputs": [
    {
     "name": "stdout",
     "output_type": "stream",
     "text": [
      "Epoch 1/10\n",
      "11/11 [==============================] - 6s 22ms/step - loss: 0.2565\n",
      "Epoch 2/10\n",
      "11/11 [==============================] - 0s 22ms/step - loss: 0.0392\n",
      "Epoch 3/10\n",
      "11/11 [==============================] - 0s 22ms/step - loss: 0.0359\n",
      "Epoch 4/10\n",
      "11/11 [==============================] - 0s 23ms/step - loss: 0.0234\n",
      "Epoch 5/10\n",
      "11/11 [==============================] - 0s 22ms/step - loss: 0.0226\n",
      "Epoch 6/10\n",
      "11/11 [==============================] - 0s 22ms/step - loss: 0.0192\n",
      "Epoch 7/10\n",
      "11/11 [==============================] - 0s 23ms/step - loss: 0.0190\n",
      "Epoch 8/10\n",
      "11/11 [==============================] - 0s 23ms/step - loss: 0.0174\n",
      "Epoch 9/10\n",
      "11/11 [==============================] - 0s 23ms/step - loss: 0.0158\n",
      "Epoch 10/10\n",
      "11/11 [==============================] - 0s 22ms/step - loss: 0.0150\n"
     ]
    },
    {
     "data": {
      "text/plain": [
       "<keras.callbacks.History at 0x2369ee2bfd0>"
      ]
     },
     "execution_count": 13,
     "metadata": {},
     "output_type": "execute_result"
    }
   ],
   "source": [
    "model.fit(X_train, y_train, epochs=10, shuffle=False, batch_size=90, verbose=1) "
   ]
  },
  {
   "cell_type": "code",
   "execution_count": 14,
   "id": "3392b736-f9bd-4a91-a0c8-2b9ad30e526c",
   "metadata": {},
   "outputs": [
    {
     "data": {
      "text/plain": [
       "0.07370757311582565"
      ]
     },
     "execution_count": 14,
     "metadata": {},
     "output_type": "execute_result"
    }
   ],
   "source": [
    "model.evaluate(X_test, y_test, verbose=0)"
   ]
  },
  {
   "cell_type": "code",
   "execution_count": 15,
   "id": "014f2bcf-4d28-4e6f-bba1-39172518b788",
   "metadata": {},
   "outputs": [
    {
     "name": "stdout",
     "output_type": "stream",
     "text": [
      "14/14 [==============================] - 2s 6ms/step\n"
     ]
    }
   ],
   "source": [
    "predicted = model.predict(X_test)"
   ]
  },
  {
   "cell_type": "code",
   "execution_count": 16,
   "id": "06ccbafa-5528-4c79-b20c-44e659b07aa3",
   "metadata": {},
   "outputs": [],
   "source": [
    " # Recover the original prices instead of the scaled version\n",
    "predicted_prices = scaler.inverse_transform(predicted)\n",
    "real_prices = scaler.inverse_transform(y_test.reshape(-1, 1))"
   ]
  },
  {
   "cell_type": "code",
   "execution_count": 17,
   "id": "0879767b-b402-4def-a77e-feefddcabd42",
   "metadata": {},
   "outputs": [
    {
     "data": {
      "text/html": [
       "<div>\n",
       "<style scoped>\n",
       "    .dataframe tbody tr th:only-of-type {\n",
       "        vertical-align: middle;\n",
       "    }\n",
       "\n",
       "    .dataframe tbody tr th {\n",
       "        vertical-align: top;\n",
       "    }\n",
       "\n",
       "    .dataframe thead th {\n",
       "        text-align: right;\n",
       "    }\n",
       "</style>\n",
       "<table border=\"1\" class=\"dataframe\">\n",
       "  <thead>\n",
       "    <tr style=\"text-align: right;\">\n",
       "      <th></th>\n",
       "      <th>Actual</th>\n",
       "      <th>Predicted</th>\n",
       "    </tr>\n",
       "    <tr>\n",
       "      <th>Date</th>\n",
       "      <th></th>\n",
       "      <th></th>\n",
       "    </tr>\n",
       "  </thead>\n",
       "  <tbody>\n",
       "    <tr>\n",
       "      <th>2020-10-07</th>\n",
       "      <td>61.549999</td>\n",
       "      <td>61.468601</td>\n",
       "    </tr>\n",
       "    <tr>\n",
       "      <th>2020-10-08</th>\n",
       "      <td>62.299999</td>\n",
       "      <td>61.343372</td>\n",
       "    </tr>\n",
       "    <tr>\n",
       "      <th>2020-10-09</th>\n",
       "      <td>62.310001</td>\n",
       "      <td>61.261417</td>\n",
       "    </tr>\n",
       "    <tr>\n",
       "      <th>2020-10-12</th>\n",
       "      <td>62.900002</td>\n",
       "      <td>61.231304</td>\n",
       "    </tr>\n",
       "    <tr>\n",
       "      <th>2020-10-13</th>\n",
       "      <td>61.849998</td>\n",
       "      <td>61.256252</td>\n",
       "    </tr>\n",
       "  </tbody>\n",
       "</table>\n",
       "</div>"
      ],
      "text/plain": [
       "               Actual  Predicted\n",
       "Date                            \n",
       "2020-10-07  61.549999  61.468601\n",
       "2020-10-08  62.299999  61.343372\n",
       "2020-10-09  62.310001  61.261417\n",
       "2020-10-12  62.900002  61.231304\n",
       "2020-10-13  61.849998  61.256252"
      ]
     },
     "execution_count": 17,
     "metadata": {},
     "output_type": "execute_result"
    }
   ],
   "source": [
    "stocks = pd.DataFrame({\n",
    "    \"Actual\": real_prices.ravel(),\n",
    "    \"Predicted\": predicted_prices.ravel()\n",
    "}, index = df.index[-len(real_prices) :]\n",
    ")\n",
    "stocks.head()"
   ]
  },
  {
   "cell_type": "code",
   "execution_count": 18,
   "id": "d972d266-9a2a-446b-8102-fb4761daa62a",
   "metadata": {},
   "outputs": [
    {
     "data": {
      "text/plain": [
       "<AxesSubplot:xlabel='Date'>"
      ]
     },
     "execution_count": 18,
     "metadata": {},
     "output_type": "execute_result"
    },
    {
     "data": {
      "image/png": "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\n",
      "text/plain": [
       "<Figure size 432x288 with 1 Axes>"
      ]
     },
     "metadata": {
      "needs_background": "light"
     },
     "output_type": "display_data"
    }
   ],
   "source": [
    "stocks.plot()"
   ]
  },
  {
   "cell_type": "code",
   "execution_count": null,
   "id": "3d1a3a11-b681-41ca-b7e5-29ef436edade",
   "metadata": {},
   "outputs": [],
   "source": []
  }
 ],
 "metadata": {
  "kernelspec": {
   "display_name": "Python 3 (ipykernel)",
   "language": "python",
   "name": "python3"
  },
  "language_info": {
   "codemirror_mode": {
    "name": "ipython",
    "version": 3
   },
   "file_extension": ".py",
   "mimetype": "text/x-python",
   "name": "python",
   "nbconvert_exporter": "python",
   "pygments_lexer": "ipython3",
   "version": "3.7.7"
  }
 },
 "nbformat": 4,
 "nbformat_minor": 5
}
##
